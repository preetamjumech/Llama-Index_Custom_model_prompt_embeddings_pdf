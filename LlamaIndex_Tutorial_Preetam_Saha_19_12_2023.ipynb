{
  "nbformat": 4,
  "nbformat_minor": 0,
  "metadata": {
    "colab": {
      "provenance": [],
      "authorship_tag": "ABX9TyMlNOIlqOrtu8PxBclYloGM",
      "include_colab_link": true
    },
    "kernelspec": {
      "name": "python3",
      "display_name": "Python 3"
    },
    "language_info": {
      "name": "python"
    }
  },
  "cells": [
    {
      "cell_type": "markdown",
      "metadata": {
        "id": "view-in-github",
        "colab_type": "text"
      },
      "source": [
        "<a href=\"https://colab.research.google.com/github/preetamjumech/Llama-Index_Custom_model_prompt_embeddings_pdf/blob/main/LlamaIndex_Tutorial_Preetam_Saha_19_12_2023.ipynb\" target=\"_parent\"><img src=\"https://colab.research.google.com/assets/colab-badge.svg\" alt=\"Open In Colab\"/></a>"
      ]
    },
    {
      "cell_type": "markdown",
      "source": [
        "#https://docs.llamaindex.ai/en/stable/"
      ],
      "metadata": {
        "id": "mGNKwh4iFP3E"
      }
    },
    {
      "cell_type": "code",
      "source": [
        "!pip install llama-index pypdf sentence_transformers -q"
      ],
      "metadata": {
        "colab": {
          "base_uri": "https://localhost:8080/"
        },
        "id": "AOGEToEnFROa",
        "outputId": "3408037b-a920-466c-91f4-ab7ccb0ec138"
      },
      "execution_count": null,
      "outputs": [
        {
          "output_type": "stream",
          "name": "stdout",
          "text": [
            "\u001b[2K     \u001b[90m━━━━━━━━━━━━━━━━━━━━━━━━━━━━━━━━━━━━━━━━\u001b[0m \u001b[32m990.2/990.2 kB\u001b[0m \u001b[31m5.1 MB/s\u001b[0m eta \u001b[36m0:00:00\u001b[0m\n",
            "\u001b[2K     \u001b[90m━━━━━━━━━━━━━━━━━━━━━━━━━━━━━━━━━━━━━━━━\u001b[0m \u001b[32m277.9/277.9 kB\u001b[0m \u001b[31m12.3 MB/s\u001b[0m eta \u001b[36m0:00:00\u001b[0m\n",
            "\u001b[2K     \u001b[90m━━━━━━━━━━━━━━━━━━━━━━━━━━━━━━━━━━━━━━━━\u001b[0m \u001b[32m86.0/86.0 kB\u001b[0m \u001b[31m3.9 MB/s\u001b[0m eta \u001b[36m0:00:00\u001b[0m\n",
            "\u001b[?25h  Preparing metadata (setup.py) ... \u001b[?25l\u001b[?25hdone\n",
            "\u001b[2K     \u001b[90m━━━━━━━━━━━━━━━━━━━━━━━━━━━━━━━━━━━━━━━━\u001b[0m \u001b[32m143.0/143.0 kB\u001b[0m \u001b[31m11.1 MB/s\u001b[0m eta \u001b[36m0:00:00\u001b[0m\n",
            "\u001b[2K     \u001b[90m━━━━━━━━━━━━━━━━━━━━━━━━━━━━━━━━━━━━━━━━\u001b[0m \u001b[32m75.0/75.0 kB\u001b[0m \u001b[31m4.8 MB/s\u001b[0m eta \u001b[36m0:00:00\u001b[0m\n",
            "\u001b[2K     \u001b[90m━━━━━━━━━━━━━━━━━━━━━━━━━━━━━━━━━━━━━━━━\u001b[0m \u001b[32m223.7/223.7 kB\u001b[0m \u001b[31m14.4 MB/s\u001b[0m eta \u001b[36m0:00:00\u001b[0m\n",
            "\u001b[2K     \u001b[90m━━━━━━━━━━━━━━━━━━━━━━━━━━━━━━━━━━━━━━━━\u001b[0m \u001b[32m2.0/2.0 MB\u001b[0m \u001b[31m30.1 MB/s\u001b[0m eta \u001b[36m0:00:00\u001b[0m\n",
            "\u001b[2K     \u001b[90m━━━━━━━━━━━━━━━━━━━━━━━━━━━━━━━━━━━━━━━━\u001b[0m \u001b[32m62.1/62.1 kB\u001b[0m \u001b[31m4.4 MB/s\u001b[0m eta \u001b[36m0:00:00\u001b[0m\n",
            "\u001b[2K     \u001b[90m━━━━━━━━━━━━━━━━━━━━━━━━━━━━━━━━━━━━━━━━\u001b[0m \u001b[32m1.3/1.3 MB\u001b[0m \u001b[31m24.6 MB/s\u001b[0m eta \u001b[36m0:00:00\u001b[0m\n",
            "\u001b[2K     \u001b[90m━━━━━━━━━━━━━━━━━━━━━━━━━━━━━━━━━━━━━━━━\u001b[0m \u001b[32m76.9/76.9 kB\u001b[0m \u001b[31m4.6 MB/s\u001b[0m eta \u001b[36m0:00:00\u001b[0m\n",
            "\u001b[2K     \u001b[90m━━━━━━━━━━━━━━━━━━━━━━━━━━━━━━━━━━━━━━━━\u001b[0m \u001b[32m58.3/58.3 kB\u001b[0m \u001b[31m5.3 MB/s\u001b[0m eta \u001b[36m0:00:00\u001b[0m\n",
            "\u001b[2K     \u001b[90m━━━━━━━━━━━━━━━━━━━━━━━━━━━━━━━━━━━━━━━━\u001b[0m \u001b[32m49.4/49.4 kB\u001b[0m \u001b[31m3.4 MB/s\u001b[0m eta \u001b[36m0:00:00\u001b[0m\n",
            "\u001b[?25h  Building wheel for sentence_transformers (setup.py) ... \u001b[?25l\u001b[?25hdone\n",
            "\u001b[31mERROR: pip's dependency resolver does not currently take into account all the packages that are installed. This behaviour is the source of the following dependency conflicts.\n",
            "llmx 0.0.15a0 requires cohere, which is not installed.\u001b[0m\u001b[31m\n",
            "\u001b[0m"
          ]
        }
      ]
    },
    {
      "cell_type": "code",
      "source": [
        "import os\n",
        "import openai"
      ],
      "metadata": {
        "id": "ku7X0Ky-Kvhh"
      },
      "execution_count": null,
      "outputs": []
    },
    {
      "cell_type": "code",
      "source": [
        "os.environ[\"OPENAI_API_KEY\"] = \"-------------------\""
      ],
      "metadata": {
        "id": "m6VFIXM3LfRn"
      },
      "execution_count": null,
      "outputs": []
    },
    {
      "cell_type": "markdown",
      "source": [
        "#Creating index"
      ],
      "metadata": {
        "id": "WKKq0lhkMADo"
      }
    },
    {
      "cell_type": "code",
      "source": [
        "from llama_index import VectorStoreIndex , SimpleDirectoryReader\n",
        "docs = SimpleDirectoryReader(\"/content/sample_data/book\").load_data()\n",
        "index = VectorStoreIndex.from_documents(docs)\n",
        "query_engine = index.as_query_engine()"
      ],
      "metadata": {
        "id": "oQ0gPTSiLvXF"
      },
      "execution_count": null,
      "outputs": []
    },
    {
      "cell_type": "code",
      "source": [
        "response = query_engine.query(\"What is this text about?\")\n",
        "print(response)"
      ],
      "metadata": {
        "colab": {
          "base_uri": "https://localhost:8080/"
        },
        "id": "Rvi37vsxN1Mc",
        "outputId": "bde94b53-509e-4a3e-ba51-e9232a81b824"
      },
      "execution_count": null,
      "outputs": [
        {
          "output_type": "stream",
          "name": "stdout",
          "text": [
            "This text is about a practice test for the ECCouncil Certified CISO (CCISO) exam, specifically version 6.0. It includes a total of 343 questions and is available on the website certkill.com. The text also includes several sample questions and their corresponding answers.\n"
          ]
        }
      ]
    },
    {
      "cell_type": "code",
      "source": [
        "response = query_engine.query(\"Who is this text about?\")\n",
        "print(response)"
      ],
      "metadata": {
        "colab": {
          "base_uri": "https://localhost:8080/"
        },
        "id": "2fQxq3YgP-_r",
        "outputId": "64336220-b9bd-4ec4-8a21-580beaddf95b"
      },
      "execution_count": null,
      "outputs": [
        {
          "output_type": "stream",
          "name": "stdout",
          "text": [
            "The text is about ECCouncil Exam 712-50 and the EC-Council Certified CISO (CCISO) certification.\n"
          ]
        }
      ]
    },
    {
      "cell_type": "code",
      "source": [
        "response = query_engine.query(\"What are the capstone projects mentioned in the text\")\n",
        "print(response)"
      ],
      "metadata": {
        "colab": {
          "base_uri": "https://localhost:8080/"
        },
        "id": "Gnzs6mvhQGjP",
        "outputId": "68a99e59-4b28-468c-bae5-f07efe8aab65"
      },
      "execution_count": null,
      "outputs": [
        {
          "output_type": "stream",
          "name": "stdout",
          "text": [
            "There is no mention of capstone projects in the given context information.\n"
          ]
        }
      ]
    },
    {
      "cell_type": "code",
      "source": [
        "response = query_engine.query(\"list 5 important points in brief from the text\")\n",
        "print(response)"
      ],
      "metadata": {
        "colab": {
          "base_uri": "https://localhost:8080/"
        },
        "id": "4q2xe_ktQN8G",
        "outputId": "6368e477-2b6c-4988-84b6-8529a1114eaa"
      },
      "execution_count": null,
      "outputs": [
        {
          "output_type": "stream",
          "name": "stdout",
          "text": [
            "1. An organization's Information Security Policy is of utmost importance because it communicates management's commitment to protecting information resources.\n",
            "2. Developing a set of decentralized security policies and procedures within an enterprise environment is more desirable when the enterprise is made up of many business units with diverse business activities, risk profiles, and regulatory requirements.\n",
            "3. A vulnerability is a weakness of an asset or group of assets that can be exploited by one or more threats.\n",
            "4. The success of the Chief Information Security Officer is most dependent upon the development of relationships with organization executives.\n",
            "5. The main purpose of the Incident Response Team is to ensure efficient recovery and reinstate repaired systems.\n"
          ]
        }
      ]
    },
    {
      "cell_type": "code",
      "source": [
        "response = query_engine.query(\"What are the advantages that Quantitative Risk Assessments have over qualitative risk assessments?\")\n",
        "print(response)"
      ],
      "metadata": {
        "colab": {
          "base_uri": "https://localhost:8080/"
        },
        "id": "o5F6MSrqRiM6",
        "outputId": "ce2bc586-c38e-4a3b-8176-2494b74abdb0"
      },
      "execution_count": null,
      "outputs": [
        {
          "output_type": "stream",
          "name": "stdout",
          "text": [
            "Quantitative risk assessments have the advantage of being objective and can express risk/cost in real numbers.\n"
          ]
        }
      ]
    },
    {
      "cell_type": "markdown",
      "source": [
        "# Saving and loading index"
      ],
      "metadata": {
        "id": "XQkAOo_9ntqo"
      }
    },
    {
      "cell_type": "code",
      "source": [
        "index.storage_context.persist(\"index_saved\")"
      ],
      "metadata": {
        "id": "NhVNAB6dSA5D"
      },
      "execution_count": null,
      "outputs": []
    },
    {
      "cell_type": "code",
      "source": [
        "from llama_index import StorageContext, load_index_from_storage"
      ],
      "metadata": {
        "id": "nAd6WGwaoBlK"
      },
      "execution_count": null,
      "outputs": []
    },
    {
      "cell_type": "code",
      "source": [
        "stored = StorageContext.from_defaults(persist_dir=\"index_saved\")\n",
        "new_index = load_index_from_storage(stored)"
      ],
      "metadata": {
        "id": "Itq6JbcgoST-"
      },
      "execution_count": null,
      "outputs": []
    },
    {
      "cell_type": "code",
      "source": [
        "new_query_engine = new_index.as_query_engine()\n",
        "response = new_query_engine.query(\"What is this text about?\")\n",
        "print(response)"
      ],
      "metadata": {
        "colab": {
          "base_uri": "https://localhost:8080/"
        },
        "id": "Keqs-7_oo3G4",
        "outputId": "5e7cb963-5bc8-47db-e749-3d7d66176e53"
      },
      "execution_count": null,
      "outputs": [
        {
          "output_type": "stream",
          "name": "stdout",
          "text": [
            "This text is about a practice test for the ECCouncil Exam 712-50, which is for the EC-Council Certified CISO (CCISO) certification. The text includes information about the total number of questions in the exam and provides a link to a website called certkill.com. The text also includes multiple questions with their corresponding answers related to information security strategies, data breach disclosure, and security program activities.\n"
          ]
        }
      ]
    },
    {
      "cell_type": "markdown",
      "source": [
        "# Customising LLMs"
      ],
      "metadata": {
        "id": "wuPzhOD7plI0"
      }
    },
    {
      "cell_type": "code",
      "source": [
        "!pip install --upgrade langchain"
      ],
      "metadata": {
        "colab": {
          "base_uri": "https://localhost:8080/"
        },
        "id": "RDmDuV7hsB01",
        "outputId": "6d0bc8bb-e777-4ee5-f5f5-d6222770495b"
      },
      "execution_count": null,
      "outputs": [
        {
          "output_type": "stream",
          "name": "stdout",
          "text": [
            "Collecting langchain\n",
            "  Downloading langchain-0.0.351-py3-none-any.whl (794 kB)\n",
            "\u001b[2K     \u001b[90m━━━━━━━━━━━━━━━━━━━━━━━━━━━━━━━━━━━━━━━━\u001b[0m \u001b[32m794.3/794.3 kB\u001b[0m \u001b[31m4.5 MB/s\u001b[0m eta \u001b[36m0:00:00\u001b[0m\n",
            "\u001b[?25hRequirement already satisfied: PyYAML>=5.3 in /usr/local/lib/python3.10/dist-packages (from langchain) (6.0.1)\n",
            "Requirement already satisfied: SQLAlchemy<3,>=1.4 in /usr/local/lib/python3.10/dist-packages (from langchain) (2.0.23)\n",
            "Requirement already satisfied: aiohttp<4.0.0,>=3.8.3 in /usr/local/lib/python3.10/dist-packages (from langchain) (3.9.1)\n",
            "Requirement already satisfied: async-timeout<5.0.0,>=4.0.0 in /usr/local/lib/python3.10/dist-packages (from langchain) (4.0.3)\n",
            "Requirement already satisfied: dataclasses-json<0.7,>=0.5.7 in /usr/local/lib/python3.10/dist-packages (from langchain) (0.6.3)\n",
            "Collecting jsonpatch<2.0,>=1.33 (from langchain)\n",
            "  Downloading jsonpatch-1.33-py2.py3-none-any.whl (12 kB)\n",
            "Collecting langchain-community<0.1,>=0.0.2 (from langchain)\n",
            "  Downloading langchain_community-0.0.4-py3-none-any.whl (1.5 MB)\n",
            "\u001b[2K     \u001b[90m━━━━━━━━━━━━━━━━━━━━━━━━━━━━━━━━━━━━━━━━\u001b[0m \u001b[32m1.5/1.5 MB\u001b[0m \u001b[31m25.5 MB/s\u001b[0m eta \u001b[36m0:00:00\u001b[0m\n",
            "\u001b[?25hCollecting langchain-core<0.2,>=0.1 (from langchain)\n",
            "  Downloading langchain_core-0.1.1-py3-none-any.whl (190 kB)\n",
            "\u001b[2K     \u001b[90m━━━━━━━━━━━━━━━━━━━━━━━━━━━━━━━━━━━━━━━━\u001b[0m \u001b[32m190.6/190.6 kB\u001b[0m \u001b[31m18.1 MB/s\u001b[0m eta \u001b[36m0:00:00\u001b[0m\n",
            "\u001b[?25hCollecting langsmith<0.1.0,>=0.0.70 (from langchain)\n",
            "  Downloading langsmith-0.0.72-py3-none-any.whl (46 kB)\n",
            "\u001b[2K     \u001b[90m━━━━━━━━━━━━━━━━━━━━━━━━━━━━━━━━━━━━━━━━\u001b[0m \u001b[32m46.3/46.3 kB\u001b[0m \u001b[31m5.7 MB/s\u001b[0m eta \u001b[36m0:00:00\u001b[0m\n",
            "\u001b[?25hRequirement already satisfied: numpy<2,>=1 in /usr/local/lib/python3.10/dist-packages (from langchain) (1.23.5)\n",
            "Requirement already satisfied: pydantic<3,>=1 in /usr/local/lib/python3.10/dist-packages (from langchain) (1.10.13)\n",
            "Requirement already satisfied: requests<3,>=2 in /usr/local/lib/python3.10/dist-packages (from langchain) (2.31.0)\n",
            "Requirement already satisfied: tenacity<9.0.0,>=8.1.0 in /usr/local/lib/python3.10/dist-packages (from langchain) (8.2.3)\n",
            "Requirement already satisfied: attrs>=17.3.0 in /usr/local/lib/python3.10/dist-packages (from aiohttp<4.0.0,>=3.8.3->langchain) (23.1.0)\n",
            "Requirement already satisfied: multidict<7.0,>=4.5 in /usr/local/lib/python3.10/dist-packages (from aiohttp<4.0.0,>=3.8.3->langchain) (6.0.4)\n",
            "Requirement already satisfied: yarl<2.0,>=1.0 in /usr/local/lib/python3.10/dist-packages (from aiohttp<4.0.0,>=3.8.3->langchain) (1.9.4)\n",
            "Requirement already satisfied: frozenlist>=1.1.1 in /usr/local/lib/python3.10/dist-packages (from aiohttp<4.0.0,>=3.8.3->langchain) (1.4.0)\n",
            "Requirement already satisfied: aiosignal>=1.1.2 in /usr/local/lib/python3.10/dist-packages (from aiohttp<4.0.0,>=3.8.3->langchain) (1.3.1)\n",
            "Requirement already satisfied: marshmallow<4.0.0,>=3.18.0 in /usr/local/lib/python3.10/dist-packages (from dataclasses-json<0.7,>=0.5.7->langchain) (3.20.1)\n",
            "Requirement already satisfied: typing-inspect<1,>=0.4.0 in /usr/local/lib/python3.10/dist-packages (from dataclasses-json<0.7,>=0.5.7->langchain) (0.9.0)\n",
            "Collecting jsonpointer>=1.9 (from jsonpatch<2.0,>=1.33->langchain)\n",
            "  Downloading jsonpointer-2.4-py2.py3-none-any.whl (7.8 kB)\n",
            "Requirement already satisfied: anyio<5,>=3 in /usr/local/lib/python3.10/dist-packages (from langchain-core<0.2,>=0.1->langchain) (3.7.1)\n",
            "Requirement already satisfied: packaging<24.0,>=23.2 in /usr/local/lib/python3.10/dist-packages (from langchain-core<0.2,>=0.1->langchain) (23.2)\n",
            "Requirement already satisfied: typing-extensions>=4.2.0 in /usr/local/lib/python3.10/dist-packages (from pydantic<3,>=1->langchain) (4.5.0)\n",
            "Requirement already satisfied: charset-normalizer<4,>=2 in /usr/local/lib/python3.10/dist-packages (from requests<3,>=2->langchain) (3.3.2)\n",
            "Requirement already satisfied: idna<4,>=2.5 in /usr/local/lib/python3.10/dist-packages (from requests<3,>=2->langchain) (3.6)\n",
            "Requirement already satisfied: urllib3<3,>=1.21.1 in /usr/local/lib/python3.10/dist-packages (from requests<3,>=2->langchain) (2.0.7)\n",
            "Requirement already satisfied: certifi>=2017.4.17 in /usr/local/lib/python3.10/dist-packages (from requests<3,>=2->langchain) (2023.11.17)\n",
            "Requirement already satisfied: greenlet!=0.4.17 in /usr/local/lib/python3.10/dist-packages (from SQLAlchemy<3,>=1.4->langchain) (3.0.2)\n",
            "Requirement already satisfied: sniffio>=1.1 in /usr/local/lib/python3.10/dist-packages (from anyio<5,>=3->langchain-core<0.2,>=0.1->langchain) (1.3.0)\n",
            "Requirement already satisfied: exceptiongroup in /usr/local/lib/python3.10/dist-packages (from anyio<5,>=3->langchain-core<0.2,>=0.1->langchain) (1.2.0)\n",
            "Requirement already satisfied: mypy-extensions>=0.3.0 in /usr/local/lib/python3.10/dist-packages (from typing-inspect<1,>=0.4.0->dataclasses-json<0.7,>=0.5.7->langchain) (1.0.0)\n",
            "Installing collected packages: jsonpointer, langsmith, jsonpatch, langchain-core, langchain-community, langchain\n",
            "Successfully installed jsonpatch-1.33 jsonpointer-2.4 langchain-0.0.351 langchain-community-0.0.4 langchain-core-0.1.1 langsmith-0.0.72\n"
          ]
        }
      ]
    },
    {
      "cell_type": "code",
      "source": [
        "from llama_index import LLMPredictor , ServiceContext\n",
        "\n",
        "from langchain.chat_models import ChatOpenAI"
      ],
      "metadata": {
        "id": "aLOfJJb1pbgB"
      },
      "execution_count": null,
      "outputs": []
    },
    {
      "cell_type": "code",
      "source": [
        "llm_predictor = LLMPredictor(llm = ChatOpenAI(model = \"gpt-3.5-turbo\"))\n",
        "service_context = ServiceContext.from_defaults(llm_predictor = llm_predictor)\n",
        "\n",
        "custom_llm_index = VectorStoreIndex.from_documents(docs, service_context= service_context)"
      ],
      "metadata": {
        "id": "zMIpnOSWr0Sf",
        "colab": {
          "base_uri": "https://localhost:8080/"
        },
        "outputId": "129c507d-70d0-43d4-f6ea-07d774d419bc"
      },
      "execution_count": 33,
      "outputs": [
        {
          "output_type": "stream",
          "name": "stdout",
          "text": [
            "LLMPredictor is deprecated, please use LLM instead.\n"
          ]
        }
      ]
    },
    {
      "cell_type": "code",
      "source": [
        "custom_llm_index_query = custom_llm_index.as_query_engine()\n",
        "response = custom_llm_index_query.query(\"What is this text about?\")"
      ],
      "metadata": {
        "id": "WqqYrGwMyoH7"
      },
      "execution_count": 34,
      "outputs": []
    },
    {
      "cell_type": "code",
      "source": [
        "print(response)"
      ],
      "metadata": {
        "colab": {
          "base_uri": "https://localhost:8080/"
        },
        "id": "eUIyfRArzaiH",
        "outputId": "49a9a8f9-1246-49e7-9366-e455b172b5a6"
      },
      "execution_count": 37,
      "outputs": [
        {
          "output_type": "stream",
          "name": "stdout",
          "text": [
            "The text is about an ECCouncil exam (Exam 712-50) for the EC-Council Certified CISO (CCISO) certification. It provides information about the version of the exam, the total number of questions, and includes sample questions and answers related to information security strategies, data breach disclosure laws, and security program activities.\n"
          ]
        }
      ]
    },
    {
      "cell_type": "code",
      "source": [
        "response = custom_llm_index_query.query(\"list 5 important points in brief from the text\")\n",
        "print(response)"
      ],
      "metadata": {
        "colab": {
          "base_uri": "https://localhost:8080/"
        },
        "id": "B8Tuj8MhAHwv",
        "outputId": "aacda778-f509-478a-fec2-3a456d07cf37"
      },
      "execution_count": 61,
      "outputs": [
        {
          "output_type": "stream",
          "name": "stdout",
          "text": [
            "1. An organization's Information Security Policy is of utmost importance because it communicates management's commitment to protecting information resources.\n",
            "2. Developing a set of decentralized security policies and procedures within an enterprise environment is more desirable when the enterprise is made up of many business units with diverse business activities, risk profiles, and regulatory requirements.\n",
            "3. A vulnerability is a weakness of an asset or group of assets that can be exploited by one or more threats.\n",
            "4. The success of the Chief Information Security Officer is most dependent upon the development of relationships with organization executives.\n",
            "5. The main purpose of the Incident Response Team is to ensure efficient recovery and reinstate repaired systems.\n"
          ]
        }
      ]
    },
    {
      "cell_type": "code",
      "source": [
        "from llama_index.llms import OpenAI\n",
        "\n",
        "llm = OpenAI(temperature=0.1, model=\"gpt-4\")\n",
        "service_context = ServiceContext.from_defaults(llm=llm)\n",
        "custom_llm_index = VectorStoreIndex.from_documents(docs, service_context= service_context)\n",
        "response = custom_llm_index_query.query(\"list 5 important points in brief from the text\")\n",
        "print(response)"
      ],
      "metadata": {
        "colab": {
          "base_uri": "https://localhost:8080/"
        },
        "id": "I7w0HTV7-xU2",
        "outputId": "da212218-fbfc-44aa-f190-81c5ff199547"
      },
      "execution_count": 62,
      "outputs": [
        {
          "output_type": "stream",
          "name": "stdout",
          "text": [
            "1. An organization's Information Security Policy is of utmost importance because it communicates management's commitment to protecting information resources.\n",
            "2. Developing a set of decentralized security policies and procedures within an enterprise environment is more desirable when the enterprise is made up of many business units with diverse business activities, risk profiles, and regulatory requirements.\n",
            "3. A vulnerability is a weakness of an asset or group of assets that can be exploited by one or more threats.\n",
            "4. The success of the Chief Information Security Officer is most dependent upon the development of relationships with organization executives.\n",
            "5. The Information Security Governance program must integrate with other organizational governance processes.\n"
          ]
        }
      ]
    },
    {
      "cell_type": "code",
      "source": [
        "from llama_index.llms import OpenAI\n",
        "\n",
        "llm = OpenAI(temperature=0.1, model=\"gpt-3.5-turbo\")\n",
        "service_context = ServiceContext.from_defaults(llm=llm)\n",
        "custom_llm_index = VectorStoreIndex.from_documents(docs, service_context= service_context)\n",
        "response = custom_llm_index_query.query(\"list 5 important points in brief from the text\")\n",
        "print(response)"
      ],
      "metadata": {
        "colab": {
          "base_uri": "https://localhost:8080/"
        },
        "id": "8XUTj8axApBq",
        "outputId": "075c10a9-8132-40fb-e6cf-28888e6581de"
      },
      "execution_count": 64,
      "outputs": [
        {
          "output_type": "stream",
          "name": "stdout",
          "text": [
            "1. An organization's Information Security Policy is of utmost importance because it communicates management's commitment to protecting information resources.\n",
            "2. Developing a set of decentralized security policies and procedures within an enterprise environment is more desirable when the enterprise is made up of many business units with diverse business activities, risk profiles, and regulatory requirements.\n",
            "3. A vulnerability is a weakness of an asset or group of assets that can be exploited by one or more threats.\n",
            "4. The success of the Chief Information Security Officer is most dependent upon the development of relationships with organization executives.\n",
            "5. The Information Security Governance program must integrate with other organizational governance processes.\n"
          ]
        }
      ]
    },
    {
      "cell_type": "code",
      "source": [
        "from llama_index.llms import OpenAI\n",
        "from langchain.chat_models import ChatOpenAI\n",
        "\n",
        "llm = ChatOpenAI(temperature=0.1, model=\"gpt-4\")\n",
        "service_context = ServiceContext.from_defaults(llm=llm)\n",
        "custom_llm_index = VectorStoreIndex.from_documents(docs, service_context= service_context)\n",
        "response = custom_llm_index_query.query(\"list 5 important points in brief from the text\")\n",
        "print(response)"
      ],
      "metadata": {
        "colab": {
          "base_uri": "https://localhost:8080/"
        },
        "id": "8tbsF_mJATF_",
        "outputId": "fac29a45-1b51-44ae-8dbf-3209344d018f"
      },
      "execution_count": 63,
      "outputs": [
        {
          "output_type": "stream",
          "name": "stdout",
          "text": [
            "1. An organization's Information Security Policy is of utmost importance because it communicates management's commitment to protecting information resources.\n",
            "2. Developing a set of decentralized security policies and procedures within an enterprise environment is desirable when the enterprise is made up of many business units with diverse business activities, risk profiles, and regulatory requirements.\n",
            "3. A vulnerability is a weakness of an asset or group of assets that can be exploited by one or more threats.\n",
            "4. The success of the Chief Information Security Officer is most dependent upon the development of relationships with organization executives.\n",
            "5. The main purpose of the Incident Response Team is to ensure efficient recovery and reinstate repaired systems.\n"
          ]
        }
      ]
    },
    {
      "cell_type": "markdown",
      "source": [
        "# Custom Prompt"
      ],
      "metadata": {
        "id": "lXAmCu4x0syV"
      }
    },
    {
      "cell_type": "code",
      "source": [
        "from llama_index import Prompt"
      ],
      "metadata": {
        "id": "VfRp450ezdbU"
      },
      "execution_count": 38,
      "outputs": []
    },
    {
      "cell_type": "code",
      "source": [
        "template = (\n",
        "    \"We have provided context information below. \\n\"\n",
        "    \"---------------------\\n\"\n",
        "    \"{context_str}\"\n",
        "    \"\\n---------------------\\n\"\n",
        "    \"Given this information, please answer the question and each answer should begin with code word Preetam Saha : {query_str}\\n\"\n",
        ")"
      ],
      "metadata": {
        "id": "Wdbx4A9B1MQg"
      },
      "execution_count": 39,
      "outputs": []
    },
    {
      "cell_type": "code",
      "source": [
        "qa_template = Prompt(template)"
      ],
      "metadata": {
        "id": "CiVbR5Bh1uxe"
      },
      "execution_count": 41,
      "outputs": []
    },
    {
      "cell_type": "code",
      "source": [
        "custom_llm_prompt_index_query = custom_llm_index.as_query_engine(text_qa_template = qa_template)\n",
        "response = custom_llm_prompt_index_query.query(\"What is this text about?\")"
      ],
      "metadata": {
        "id": "o0mzfqnp12lI"
      },
      "execution_count": 42,
      "outputs": []
    },
    {
      "cell_type": "code",
      "source": [
        "print(response)"
      ],
      "metadata": {
        "colab": {
          "base_uri": "https://localhost:8080/"
        },
        "id": "Em021OZ-2U1N",
        "outputId": "3e539b0a-da50-4e6a-b19c-201dfbc32f7c"
      },
      "execution_count": 43,
      "outputs": [
        {
          "output_type": "stream",
          "name": "stdout",
          "text": [
            "Preetam Saha: This text is about an ECCouncil exam, specifically Exam 712-50 for the EC-Council Certified CISO (CCISO) certification. The text provides information about the version of the exam, the total number of questions, and a website for additional resources. It also includes some sample questions and their answers related to information security strategies, data breach disclosure laws, and security program activities.\n"
          ]
        }
      ]
    },
    {
      "cell_type": "code",
      "source": [
        "response = custom_llm_prompt_index_query.query(\"list 5 important points in brief from the text\")\n",
        "print(response)"
      ],
      "metadata": {
        "colab": {
          "base_uri": "https://localhost:8080/"
        },
        "id": "_mUsdWhd-LnY",
        "outputId": "8fcbbf65-8cf0-46ae-d782-24ee681d4707"
      },
      "execution_count": 57,
      "outputs": [
        {
          "output_type": "stream",
          "name": "stdout",
          "text": [
            "Preetam Saha: \n",
            "\n",
            "1. The Information Security Policy is of utmost importance because it communicates management's commitment to protecting information resources.\n",
            "2. Developing decentralized security policies and procedures within an enterprise environment is desirable when the enterprise is made up of many business units with diverse business activities, risk profiles, and regulatory requirements.\n",
            "3. A vulnerability is a weakness of an asset or group of assets that can be exploited by one or more threats.\n",
            "4. The success of the Chief Information Security Officer is most dependent upon the development of relationships with organization executives.\n",
            "5. The Information Security Governance program must integrate with other organizational governance processes.\n"
          ]
        }
      ]
    },
    {
      "cell_type": "markdown",
      "source": [
        "# Custom Embeddings\n",
        "\n"
      ],
      "metadata": {
        "id": "urqPKcxl5ATZ"
      }
    },
    {
      "cell_type": "code",
      "source": [
        "from llama_index import ServiceContext\n",
        "\n",
        "from langchain.embeddings.huggingface import HuggingFaceBgeEmbeddings"
      ],
      "metadata": {
        "id": "Xhd2UGam2YAf"
      },
      "execution_count": 58,
      "outputs": []
    },
    {
      "cell_type": "code",
      "source": [
        "embed_model = HuggingFaceBgeEmbeddings(model_name= \"sentence-transformers/all-MiniLM-L12-v2\")\n",
        "service_context = ServiceContext.from_defaults(embed_model= embed_model)\n",
        "\n",
        "custom_embedding_index = VectorStoreIndex.from_documents(docs,service_context = service_context)\n",
        "custom_embedding_index_query = custom_embedding_index.as_query_engine()\n",
        "response = custom_embedding_index_query.query(\"What is this text about?\")\n",
        "print(response)"
      ],
      "metadata": {
        "colab": {
          "base_uri": "https://localhost:8080/"
        },
        "id": "wQrqNNX05vHf",
        "outputId": "80041a5a-e541-48b3-ca66-c788846f1476"
      },
      "execution_count": 59,
      "outputs": [
        {
          "output_type": "stream",
          "name": "stdout",
          "text": [
            "This text appears to be about an ECCouncil exam, specifically the ECCouncil Certified CISO (CCISO) exam. It provides information about the version of the exam and the total number of questions.\n"
          ]
        }
      ]
    },
    {
      "cell_type": "code",
      "source": [
        "response = custom_embedding_index_query.query(\"list 5 important points in brief from the text\")\n",
        "print(response)"
      ],
      "metadata": {
        "colab": {
          "base_uri": "https://localhost:8080/"
        },
        "id": "zTbN0-tj8x7S",
        "outputId": "e1c24008-bb48-49da-a81e-13def10739b2"
      },
      "execution_count": 60,
      "outputs": [
        {
          "output_type": "stream",
          "name": "stdout",
          "text": [
            "1. The document is a practice test for the ECCouncil Exam 712-50, which is for the EC-Council Certified CISO (CCISO) certification.\n",
            "2. The document contains a total of 343 questions.\n",
            "3. The topics covered in the practice test include Governance (Policy, Legal & Compliance), IS Management Controls and Auditing Management, Management – Projects and Operations, Information Security Core Competencies, and Strategic Planning & Finance.\n",
            "4. The practice test is available in a PDF format.\n",
            "5. The website certkill.com is mentioned as a source for the practice test.\n"
          ]
        }
      ]
    },
    {
      "cell_type": "code",
      "source": [],
      "metadata": {
        "id": "T39qVozN-Ec5"
      },
      "execution_count": null,
      "outputs": []
    }
  ]
}